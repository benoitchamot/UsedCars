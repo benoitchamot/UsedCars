{
 "cells": [
  {
   "cell_type": "markdown",
   "metadata": {},
   "source": [
    "# ETL\n",
    "## Load clean CSV files to SQLite"
   ]
  },
  {
   "cell_type": "code",
   "execution_count": 1,
   "metadata": {},
   "outputs": [],
   "source": [
    "# Engine\n",
    "from sqlalchemy import create_engine\n",
    "\n",
    "# ORM session tool\n",
    "from sqlalchemy.orm import Session\n",
    "\n",
    "# Get data types used in columns (class attributes)\n",
    "from sqlalchemy import Column, Integer, String, Float, Boolean\n",
    "\n",
    "# Get a preset of system classes\n",
    "from sqlalchemy.ext.declarative import declarative_base\n",
    "\n",
    "import pandas as pd"
   ]
  },
  {
   "cell_type": "code",
   "execution_count": 2,
   "metadata": {},
   "outputs": [],
   "source": [
    "Base = declarative_base()"
   ]
  },
  {
   "cell_type": "markdown",
   "metadata": {},
   "source": [
    "### Create classes for each table"
   ]
  },
  {
   "cell_type": "code",
   "execution_count": 3,
   "metadata": {},
   "outputs": [],
   "source": [
    "class Location(Base):\n",
    "    __tablename__ = \"location\"\n",
    "    location_id = Column(String, primary_key = True)\n",
    "    region = Column(String)\n",
    "    state = Column(String)\n",
    "    lat = Column(Float)\n",
    "    long = Column(Float)\n",
    "    region_url = Column(String)"
   ]
  },
  {
   "cell_type": "code",
   "execution_count": 4,
   "metadata": {},
   "outputs": [],
   "source": [
    "class Listing(Base):\n",
    "    __tablename__ = \"listing\"\n",
    "    listing_id = Column(String, primary_key = True)\n",
    "    posting_date = Column(String)\n",
    "    price = Column(Integer)\n",
    "    location_id = Column(String)\n",
    "    url = Column(String)\n",
    "    image_url = Column(String)\n",
    "    description = Column(String)"
   ]
  },
  {
   "cell_type": "code",
   "execution_count": 5,
   "metadata": {},
   "outputs": [],
   "source": [
    "class Vehicle(Base):\n",
    "    __tablename__ = \"vehicle\"\n",
    "    vehicle_id = Column(String, primary_key = True)\n",
    "    model = Column(String)\n",
    "    manufacturer = Column(String)\n",
    "    year = Column(Integer)\n",
    "    cylinders = Column(String)\n",
    "    fuel = Column(String)\n",
    "    transmission = Column(String)\n",
    "    drive = Column(String)\n",
    "    size = Column(String)\n",
    "    type = Column(String)"
   ]
  },
  {
   "cell_type": "code",
   "execution_count": 6,
   "metadata": {},
   "outputs": [],
   "source": [
    "class Usage(Base):\n",
    "    __tablename__ = \"usage\"\n",
    "    id = Column(Integer, primary_key = True)\n",
    "    condition = Column(String)\n",
    "    odometer = Column(Float)\n",
    "    title_status = Column(String)\n",
    "    VIN = Column(String)\n",
    "    paint_color = Column(String)\n",
    "    vehicle_id = Column(String)\n",
    "    listing_id = Column(String)"
   ]
  },
  {
   "cell_type": "markdown",
   "metadata": {},
   "source": [
    "### Open Session"
   ]
  },
  {
   "cell_type": "code",
   "execution_count": 7,
   "metadata": {},
   "outputs": [],
   "source": [
    "# Create database connection\n",
    "# NOTE: Create the database if it does not exist\n",
    "engine = create_engine(\"sqlite:///database/UsedCars.sqlite\")\n",
    "\n",
    "# Create all tables and columns (from class)\n",
    "# NOTE: If the table already exists, it will use the existing table\n",
    "Base.metadata.create_all(engine)\n",
    "\n",
    "# Start session\n",
    "session = Session(bind=engine)"
   ]
  },
  {
   "cell_type": "markdown",
   "metadata": {},
   "source": [
    "## Add records"
   ]
  },
  {
   "cell_type": "code",
   "execution_count": 8,
   "metadata": {},
   "outputs": [],
   "source": [
    "# Open CSV files\n",
    "location_df = pd.read_csv('cleaned_csv/location.csv')\n",
    "listing_df = pd.read_csv('cleaned_csv/listing.csv')\n",
    "vehicle_df = pd.read_csv('cleaned_csv/vehicle.csv')\n",
    "usage_df = pd.read_csv('cleaned_csv/usage.csv')"
   ]
  },
  {
   "cell_type": "code",
   "execution_count": 9,
   "metadata": {},
   "outputs": [
    {
     "name": "stdout",
     "output_type": "stream",
     "text": [
      "426 / 426\r"
     ]
    }
   ],
   "source": [
    "nb_rows = len(location_df)\n",
    "counter = 0\n",
    "\n",
    "for index, row in location_df.iterrows():\n",
    "    counter += 1\n",
    "    print(f\"{counter} / {nb_rows}\", end='\\r')\n",
    "\n",
    "    new_record = Location(\n",
    "        location_id = row['location_id'],\n",
    "        region = row['region'],\n",
    "        state = row['state'],\n",
    "        lat = row['lat'],\n",
    "        long = row['long'],\n",
    "        region_url = row['region_url']\n",
    "    )\n",
    "\n",
    "    # Add new instance to session\n",
    "    session.add(new_record)\n",
    "\n",
    "# Commit all changes to database\n",
    "session.commit()"
   ]
  },
  {
   "cell_type": "code",
   "execution_count": 10,
   "metadata": {},
   "outputs": [
    {
     "name": "stdout",
     "output_type": "stream",
     "text": [
      "399275 / 399275\r"
     ]
    }
   ],
   "source": [
    "nb_rows = len(listing_df)\n",
    "counter = 0\n",
    "\n",
    "for index, row in listing_df.iterrows():\n",
    "    counter += 1\n",
    "    print(f\"{counter} / {nb_rows}\", end='\\r')\n",
    "\n",
    "    new_record = Listing(\n",
    "        listing_id = row['listing_id'],\n",
    "        posting_date = row['posting_date'],\n",
    "        price = row['price'],\n",
    "        location_id = row['location_id'],\n",
    "        url = row['url'],\n",
    "        image_url = row['image_url'],\n",
    "        description = row['description']\n",
    "    )\n",
    "\n",
    "    # Add new instance to session\n",
    "    session.add(new_record)\n"
   ]
  },
  {
   "cell_type": "code",
   "execution_count": 11,
   "metadata": {},
   "outputs": [],
   "source": [
    "# Commit all changes to database\n",
    "session.commit()"
   ]
  },
  {
   "cell_type": "code",
   "execution_count": 12,
   "metadata": {},
   "outputs": [
    {
     "name": "stdout",
     "output_type": "stream",
     "text": [
      "147208 / 147208\r"
     ]
    }
   ],
   "source": [
    "nb_rows = len(vehicle_df)\n",
    "counter = 0\n",
    "\n",
    "for index, row in vehicle_df.iterrows():\n",
    "    counter += 1\n",
    "    print(f\"{counter} / {nb_rows}\", end='\\r')\n",
    "\n",
    "    new_record = Vehicle(\n",
    "        vehicle_id = row['vehicle_id'],\n",
    "        model = row['model'],\n",
    "        manufacturer = row['manufacturer'],\n",
    "        year = row['year'],\n",
    "        cylinders = row['cylinders'],\n",
    "        fuel =row['fuel'],\n",
    "        transmission = row['transmission'],\n",
    "        drive = row['drive'],\n",
    "        size = row['size'],\n",
    "        type = row['type']\n",
    "    )\n",
    "\n",
    "    # Add new instance to session\n",
    "    session.add(new_record)\n",
    "\n",
    "# Commit all changes to database\n",
    "session.commit()"
   ]
  },
  {
   "cell_type": "code",
   "execution_count": 13,
   "metadata": {},
   "outputs": [
    {
     "name": "stdout",
     "output_type": "stream",
     "text": [
      "399275 / 399275\r"
     ]
    }
   ],
   "source": [
    "nb_rows = len(usage_df)\n",
    "counter = 0\n",
    "\n",
    "for index, row in usage_df.iterrows():\n",
    "    counter += 1\n",
    "    print(f\"{counter} / {nb_rows}\", end='\\r')\n",
    "\n",
    "    new_record = Usage(\n",
    "        condition = row['condition'],\n",
    "        odometer = row['odometer'],\n",
    "        title_status = row['title_status'],\n",
    "        VIN = row['VIN'],\n",
    "        paint_color = row['paint_color'],\n",
    "        vehicle_id = row['vehicle_id'],\n",
    "        listing_id = row['listing_id']\n",
    "    )\n",
    "\n",
    "    # Add new instance to session\n",
    "    session.add(new_record)\n",
    "\n",
    "# Commit all changes to database\n",
    "session.commit()"
   ]
  },
  {
   "cell_type": "markdown",
   "metadata": {},
   "source": [
    "## Close session"
   ]
  },
  {
   "cell_type": "code",
   "execution_count": null,
   "metadata": {},
   "outputs": [],
   "source": [
    "# Close Session\n",
    "session.close()"
   ]
  }
 ],
 "metadata": {
  "kernelspec": {
   "display_name": "dev",
   "language": "python",
   "name": "python3"
  },
  "language_info": {
   "codemirror_mode": {
    "name": "ipython",
    "version": 3
   },
   "file_extension": ".py",
   "mimetype": "text/x-python",
   "name": "python",
   "nbconvert_exporter": "python",
   "pygments_lexer": "ipython3",
   "version": "3.10.11"
  }
 },
 "nbformat": 4,
 "nbformat_minor": 2
}
